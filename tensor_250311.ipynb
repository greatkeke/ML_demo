{
 "cells": [
  {
   "cell_type": "code",
   "execution_count": 2,
   "metadata": {},
   "outputs": [
    {
     "name": "stdout",
     "output_type": "stream",
     "text": [
      "tensor([[0.0331, 0.9765, 0.7127],\n",
      "        [0.2953, 0.7282, 0.8688],\n",
      "        [0.0900, 0.9822, 0.8604],\n",
      "        [0.4248, 0.5851, 0.5532]])\n"
     ]
    }
   ],
   "source": [
    "import torch\n",
    "\n",
    "x=torch.rand(4,3)\n",
    "print(x)"
   ]
  },
  {
   "cell_type": "code",
   "execution_count": 3,
   "metadata": {},
   "outputs": [
    {
     "name": "stdout",
     "output_type": "stream",
     "text": [
      "tensor([[0, 0, 0, 0, 0],\n",
      "        [0, 0, 0, 0, 0],\n",
      "        [0, 0, 0, 0, 0],\n",
      "        [0, 0, 0, 0, 0]])\n"
     ]
    }
   ],
   "source": [
    "y=torch.zeros(4,5, dtype=torch.long)\n",
    "print(y)"
   ]
  },
  {
   "cell_type": "code",
   "execution_count": 4,
   "metadata": {},
   "outputs": [
    {
     "name": "stdout",
     "output_type": "stream",
     "text": [
      "tensor([[0., 0., 0.],\n",
      "        [0., 0., 0.],\n",
      "        [0., 0., 0.],\n",
      "        [0., 0., 0.]])\n"
     ]
    }
   ],
   "source": [
    "z=torch.zeros_like(x, dtype=torch.float)\n",
    "print(z)"
   ]
  },
  {
   "cell_type": "code",
   "execution_count": 5,
   "metadata": {},
   "outputs": [
    {
     "name": "stdout",
     "output_type": "stream",
     "text": [
      "tensor([2.5000, 0.1000])\n"
     ]
    }
   ],
   "source": [
    "a=torch.tensor([2.5, 0.1])\n",
    "print(a)"
   ]
  },
  {
   "cell_type": "code",
   "execution_count": 17,
   "metadata": {},
   "outputs": [
    {
     "name": "stdout",
     "output_type": "stream",
     "text": [
      "tensor([[1., 1., 1., 1.],\n",
      "        [1., 1., 1., 1.],\n",
      "        [1., 1., 1., 1.],\n",
      "        [1., 1., 1., 1.]], dtype=torch.float64)\n",
      "torch.Size([4, 4])\n",
      "torch.Size([4, 4])\n"
     ]
    }
   ],
   "source": [
    "x = x.new_ones(4,4)  \n",
    "print(x)\n",
    "print(x.size())\n",
    "print(x.shape)"
   ]
  },
  {
   "cell_type": "code",
   "execution_count": 18,
   "metadata": {},
   "outputs": [
    {
     "name": "stdout",
     "output_type": "stream",
     "text": [
      "tensor([[1., 0., 0., 0.],\n",
      "        [0., 1., 0., 0.],\n",
      "        [0., 0., 1., 0.],\n",
      "        [0., 0., 0., 1.]])\n"
     ]
    }
   ],
   "source": [
    "x=torch.eye(4)\n",
    "print(x)"
   ]
  },
  {
   "cell_type": "code",
   "execution_count": 19,
   "metadata": {},
   "outputs": [
    {
     "name": "stdout",
     "output_type": "stream",
     "text": [
      "tensor([0, 2, 4, 6, 8])\n"
     ]
    }
   ],
   "source": [
    "x=torch.arange(0,10,2)\n",
    "print(x)"
   ]
  },
  {
   "cell_type": "code",
   "execution_count": 21,
   "metadata": {},
   "outputs": [
    {
     "name": "stdout",
     "output_type": "stream",
     "text": [
      "tensor([ 0.0000,  1.4286,  2.8571,  4.2857,  5.7143,  7.1429,  8.5714, 10.0000])\n"
     ]
    }
   ],
   "source": [
    "x=torch.linspace(0,10,8)\n",
    "print(x)"
   ]
  },
  {
   "cell_type": "code",
   "execution_count": 23,
   "metadata": {},
   "outputs": [
    {
     "name": "stdout",
     "output_type": "stream",
     "text": [
      "tensor([0.6582, 0.7255, 0.0118, 0.0952, 0.7226])\n"
     ]
    }
   ],
   "source": [
    "x=torch.rand(5)\n",
    "print(x)"
   ]
  },
  {
   "cell_type": "code",
   "execution_count": 24,
   "metadata": {},
   "outputs": [
    {
     "name": "stdout",
     "output_type": "stream",
     "text": [
      "tensor([-0.3378,  1.1282,  0.4961,  1.0015, -0.7838, -0.7777, -0.1568, -0.0942,\n",
      "         0.2544,  0.7212])\n"
     ]
    }
   ],
   "source": [
    "x=torch.randn(10)\n",
    "print(x)"
   ]
  },
  {
   "cell_type": "code",
   "execution_count": 30,
   "metadata": {},
   "outputs": [
    {
     "name": "stdout",
     "output_type": "stream",
     "text": [
      "tensor([1.0000, 0.9000, 0.8000, 0.7000, 0.6000, 0.5000, 0.4000, 0.3000, 0.2000,\n",
      "        0.1000])\n",
      "tensor([-0.5758,  0.1795,  1.4029,  0.6262,  1.0323,  1.4886,  0.9780,  1.1470,\n",
      "         1.4459,  0.9046])\n"
     ]
    }
   ],
   "source": [
    "std=torch.arange(1, 0, -0.1)\n",
    "print(std)\n",
    "x=torch.normal(mean=1, std=std)\n",
    "print(x)"
   ]
  },
  {
   "cell_type": "code",
   "execution_count": 34,
   "metadata": {},
   "outputs": [
    {
     "name": "stdout",
     "output_type": "stream",
     "text": [
      "tensor([2, 1, 6, 3, 0, 8, 9, 4, 5, 7])\n"
     ]
    }
   ],
   "source": [
    "x=torch.randperm(10)\n",
    "print(x)"
   ]
  },
  {
   "cell_type": "code",
   "execution_count": 36,
   "metadata": {},
   "outputs": [
    {
     "name": "stdout",
     "output_type": "stream",
     "text": [
      "tensor([[0.7252, 0.7351, 0.2743],\n",
      "        [0.7037, 0.7115, 0.0727],\n",
      "        [0.3006, 0.2249, 0.9396],\n",
      "        [0.8751, 0.1883, 0.7783]])\n",
      "tensor([[0.6532, 0.7298, 0.1565],\n",
      "        [0.5201, 0.4663, 0.7418],\n",
      "        [0.5052, 0.8447, 0.4936],\n",
      "        [0.8605, 0.9953, 0.8470]])\n",
      "tensor([[1.3784, 1.4649, 0.4308],\n",
      "        [1.2238, 1.1778, 0.8145],\n",
      "        [0.8058, 1.0696, 1.4332],\n",
      "        [1.7356, 1.1836, 1.6253]])\n",
      "tensor([[1.3784, 1.4649, 0.4308],\n",
      "        [1.2238, 1.1778, 0.8145],\n",
      "        [0.8058, 1.0696, 1.4332],\n",
      "        [1.7356, 1.1836, 1.6253]])\n",
      "tensor([[1.3784, 1.4649, 0.4308],\n",
      "        [1.2238, 1.1778, 0.8145],\n",
      "        [0.8058, 1.0696, 1.4332],\n",
      "        [1.7356, 1.1836, 1.6253]])\n"
     ]
    }
   ],
   "source": [
    "# tensor add\n",
    "x=torch.rand(4,3)\n",
    "y=torch.rand(4,3)\n",
    "print(x)\n",
    "print(y)\n",
    "print(x+y)\n",
    "print(torch.add(x,y))\n",
    "print(x.add(y))"
   ]
  },
  {
   "cell_type": "code",
   "execution_count": 45,
   "metadata": {},
   "outputs": [
    {
     "name": "stdout",
     "output_type": "stream",
     "text": [
      "tensor([[0.4507, 0.9278, 0.2012],\n",
      "        [0.0032, 0.3275, 0.2471],\n",
      "        [0.3097, 0.3136, 0.4683],\n",
      "        [0.2959, 0.5795, 0.6748]], dtype=torch.float64)\n",
      "tensor([0.2012, 0.2471, 0.4683, 0.6748], dtype=torch.float64)\n",
      "tensor([1., 1., 1., 1.])\n",
      "tensor([1.2012, 1.2471, 1.4683, 1.6748], dtype=torch.float64)\n",
      "tensor([[0.4507, 0.9278, 1.2012],\n",
      "        [0.0032, 0.3275, 1.2471],\n",
      "        [0.3097, 0.3136, 1.4683],\n",
      "        [0.2959, 0.5795, 1.6748]], dtype=torch.float64)\n"
     ]
    }
   ],
   "source": [
    "#1. 索引操作\n",
    "x=torch.rand(4,3,dtype=torch.double)\n",
    "print(x)\n",
    "second = x[:,2]\n",
    "print(second)\n",
    "y = torch.ones(4)\n",
    "print(y)\n",
    "second+=y\n",
    "print(second)\n",
    "print(x)"
   ]
  },
  {
   "cell_type": "code",
   "execution_count": 48,
   "metadata": {},
   "outputs": [
    {
     "name": "stdout",
     "output_type": "stream",
     "text": [
      "tensor([[ 0.6058,  0.8399, -0.7401,  0.4895],\n",
      "        [-2.3737, -0.3192, -0.6364,  1.9828],\n",
      "        [-0.1862, -0.3918,  0.8673,  0.9766],\n",
      "        [-0.8838, -1.2496, -0.5521, -0.0765]])\n",
      "tensor([ 0.6058,  0.8399, -0.7401,  0.4895, -2.3737, -0.3192, -0.6364,  1.9828,\n",
      "        -0.1862, -0.3918,  0.8673,  0.9766, -0.8838, -1.2496, -0.5521, -0.0765])\n",
      "tensor([[ 0.6058,  0.8399],\n",
      "        [-0.7401,  0.4895],\n",
      "        [-2.3737, -0.3192],\n",
      "        [-0.6364,  1.9828],\n",
      "        [-0.1862, -0.3918],\n",
      "        [ 0.8673,  0.9766],\n",
      "        [-0.8838, -1.2496],\n",
      "        [-0.5521, -0.0765]])\n",
      "tensor([[ 0.6058,  0.8399],\n",
      "        [-0.7401,  0.4895],\n",
      "        [-2.3737, -0.3192],\n",
      "        [-0.6364,  1.9828],\n",
      "        [-0.1862, -0.3918],\n",
      "        [ 0.8673,  0.9766],\n",
      "        [-0.8838, -1.2496],\n",
      "        [-0.5521, -0.0765]])\n"
     ]
    }
   ],
   "source": [
    "# 1. 维度变换\n",
    "x=torch.randn(4,4)\n",
    "print(x)\n",
    "y=x.view(16)\n",
    "z=x.view(-1,2)\n",
    "zz=x.view(8,2)\n",
    "print(y)\n",
    "print(z)\n",
    "print(zz)"
   ]
  },
  {
   "cell_type": "code",
   "execution_count": 50,
   "metadata": {},
   "outputs": [
    {
     "name": "stdout",
     "output_type": "stream",
     "text": [
      "tensor([[1, 2]])\n",
      "tensor([[1],\n",
      "        [2],\n",
      "        [3]])\n",
      "tensor([[2, 3],\n",
      "        [3, 4],\n",
      "        [4, 5]])\n"
     ]
    }
   ],
   "source": [
    "x=torch.arange(1,3).view(1,2)\n",
    "y=torch.arange(1,4).view(3,1)\n",
    "print(x)\n",
    "print(y)\n",
    "print(x+y)"
   ]
  },
  {
   "cell_type": "code",
   "execution_count": null,
   "metadata": {},
   "outputs": [],
   "source": []
  }
 ],
 "metadata": {
  "kernelspec": {
   "display_name": "base",
   "language": "python",
   "name": "python3"
  },
  "language_info": {
   "codemirror_mode": {
    "name": "ipython",
    "version": 3
   },
   "file_extension": ".py",
   "mimetype": "text/x-python",
   "name": "python",
   "nbconvert_exporter": "python",
   "pygments_lexer": "ipython3",
   "version": "3.12.9"
  }
 },
 "nbformat": 4,
 "nbformat_minor": 2
}
